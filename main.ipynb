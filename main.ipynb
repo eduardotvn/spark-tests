{
 "cells": [
  {
   "cell_type": "code",
   "execution_count": 48,
   "metadata": {},
   "outputs": [
    {
     "name": "stdout",
     "output_type": "stream",
     "text": [
      "root\n",
      " |-- Date: date (nullable = true)\n",
      " |-- Open: double (nullable = true)\n",
      " |-- High: double (nullable = true)\n",
      " |-- Low: double (nullable = true)\n",
      " |-- Close: double (nullable = true)\n",
      " |-- Adj Close: double (nullable = true)\n",
      " |-- Volume: integer (nullable = true)\n",
      "\n",
      "None\n",
      "+----------+--------+--------+--------+--------+---------+---------+\n",
      "|      Date|    Open|    High|     Low|   Close|Adj Close|   Volume|\n",
      "+----------+--------+--------+--------+--------+---------+---------+\n",
      "|2002-05-23|1.156429|1.242857|1.145714|1.196429| 1.196429|104790000|\n",
      "|2002-05-24|1.214286|   1.225|1.197143|    1.21|     1.21| 11104800|\n",
      "|2002-05-28|1.213571|1.232143|1.157143|1.157143| 1.157143|  6609400|\n",
      "|2002-05-29|1.164286|1.164286|1.085714|1.103571| 1.103571|  6757800|\n",
      "|2002-05-30|1.107857|1.107857|1.071429|1.071429| 1.071429| 10154200|\n",
      "|2002-05-31|1.078571|1.078571|1.071429|1.076429| 1.076429|  8464400|\n",
      "|2002-06-03|    1.08|1.149286|1.076429|1.128571| 1.128571|  3151400|\n",
      "|2002-06-04|1.135714|    1.14|1.110714|1.117857| 1.117857|  3105200|\n",
      "|2002-06-05|1.110714|1.159286|1.107143|1.147143| 1.147143|  1531600|\n",
      "|2002-06-06|    1.15|1.232143|1.148571|1.182143| 1.182143|  2305800|\n",
      "|2002-06-07|1.177857|1.177857|1.103571|1.118571| 1.118571|  1369200|\n",
      "|2002-06-10|   1.135|   1.175|1.134286|1.156429| 1.156429|   484400|\n",
      "|2002-06-11|1.156429|1.188571|1.128571|1.153571| 1.153571|  1003800|\n",
      "|2002-06-12|1.153571|1.182143|1.089286|1.092857| 1.092857|  1799000|\n",
      "|2002-06-13|1.104286|1.122143|    1.08|1.082857| 1.082857|  2567600|\n",
      "|2002-06-14|1.082143|1.085714|    0.98|0.986429| 0.986429|  4783800|\n",
      "|2002-06-17|1.013571|1.059286|0.917857|0.922143| 0.922143|  4855200|\n",
      "|2002-06-18|0.938571|0.939286|0.842143|0.910714| 0.910714| 10808000|\n",
      "|2002-06-19|0.911429|0.996429|0.892857|0.951429| 0.951429|  5482400|\n",
      "|2002-06-20|0.971429|    1.04|    0.95|0.957143| 0.957143|  6111000|\n",
      "+----------+--------+--------+--------+--------+---------+---------+\n",
      "only showing top 20 rows\n",
      "\n"
     ]
    }
   ],
   "source": [
    "from pyspark.sql import SparkSession\n",
    "from pyspark.sql.types import StructType, StructField, IntegerType, StringType, FloatType, DoubleType, DateType, TimestampType\n",
    "import pyspark.sql.functions as spfunc \n",
    "\n",
    "spark = SparkSession.builder\\\n",
    "        .master(\"local\")\\\n",
    "            .appName(\"Testing\")\\\n",
    "                .getOrCreate()\n",
    "\n",
    "\n",
    "\n",
    "df = spark.read.csv(\"csv/Netflix Dataset.csv\", header=True, inferSchema=True)\n",
    "\n",
    "print(df.printSchema())\n",
    "\n",
    "df.show()"
   ]
  },
  {
   "cell_type": "code",
   "execution_count": 49,
   "metadata": {},
   "outputs": [],
   "source": [
    "output = df.select(df.Date\\\n",
    "                    ,df.Open, df.Volume)\\\n",
    "        .where(df.Open < 1.15)\\\n",
    "        .orderBy(df.Date)"
   ]
  },
  {
   "cell_type": "code",
   "execution_count": 50,
   "metadata": {},
   "outputs": [
    {
     "name": "stdout",
     "output_type": "stream",
     "text": [
      "Df count:  5540\n",
      "Output count:  180\n"
     ]
    }
   ],
   "source": [
    "print(\"Df count: \", df.count())\n",
    "\n",
    "print(\"Output count: \",output.count())"
   ]
  },
  {
   "cell_type": "code",
   "execution_count": 51,
   "metadata": {},
   "outputs": [],
   "source": [
    "output.createOrReplaceTempView(\"output\")"
   ]
  },
  {
   "cell_type": "code",
   "execution_count": 53,
   "metadata": {},
   "outputs": [
    {
     "name": "stdout",
     "output_type": "stream",
     "text": [
      "+----------+--------+\n",
      "|      Date|    Open|\n",
      "+----------+--------+\n",
      "|2002-05-30|1.107857|\n",
      "|2002-05-31|1.078571|\n",
      "|2002-06-03|    1.08|\n",
      "|2002-06-04|1.135714|\n",
      "|2002-06-05|1.110714|\n",
      "|2002-06-10|   1.135|\n",
      "|2002-06-13|1.104286|\n",
      "|2002-06-14|1.082143|\n",
      "|2002-06-17|1.013571|\n",
      "|2002-06-18|0.938571|\n",
      "|2002-06-19|0.911429|\n",
      "|2002-06-20|0.971429|\n",
      "|2002-06-21|0.982143|\n",
      "|2002-06-24|0.979286|\n",
      "|2002-06-25|0.988571|\n",
      "|2002-06-26|0.963571|\n",
      "|2002-06-27|1.009286|\n",
      "|2002-06-28|0.960714|\n",
      "|2002-07-01|     1.0|\n",
      "|2002-07-02|1.053571|\n",
      "+----------+--------+\n",
      "only showing top 20 rows\n",
      "\n"
     ]
    }
   ],
   "source": [
    "spark.sql(\"select Date, Open from output\").show()"
   ]
  },
  {
   "cell_type": "code",
   "execution_count": null,
   "metadata": {},
   "outputs": [],
   "source": []
  }
 ],
 "metadata": {
  "kernelspec": {
   "display_name": "Python 3 (ipykernel)",
   "language": "python",
   "name": "python3"
  },
  "language_info": {
   "codemirror_mode": {
    "name": "ipython",
    "version": 3
   },
   "file_extension": ".py",
   "mimetype": "text/x-python",
   "name": "python",
   "nbconvert_exporter": "python",
   "pygments_lexer": "ipython3",
   "version": "3.12.3"
  }
 },
 "nbformat": 4,
 "nbformat_minor": 4
}
